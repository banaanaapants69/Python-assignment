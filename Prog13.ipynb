{
  "nbformat": 4,
  "nbformat_minor": 0,
  "metadata": {
    "colab": {
      "name": "Prog13.ipynb",
      "provenance": []
    },
    "kernelspec": {
      "name": "python3",
      "display_name": "Python 3"
    }
  },
  "cells": [
    {
      "cell_type": "markdown",
      "metadata": {
        "id": "VhQGLy2JfFBR"
      },
      "source": [
        "#**Machine learning**"
      ]
    },
    {
      "cell_type": "code",
      "metadata": {
        "id": "U5-TGbDPfFQ7"
      },
      "source": [
        "import numpy "
      ],
      "execution_count": null,
      "outputs": []
    },
    {
      "cell_type": "code",
      "metadata": {
        "colab": {
          "base_uri": "https://localhost:8080/"
        },
        "id": "Ud2NBRHjgXF2",
        "outputId": "e050f830-912b-4a72-f3e9-645dcf0a6de9"
      },
      "source": [
        "speed=[99,86,87,88,111,86,103,87,94,78,77,86,85]\r\n",
        "x=numpy.mean(speed)\r\n",
        "print(x)"
      ],
      "execution_count": null,
      "outputs": [
        {
          "output_type": "stream",
          "text": [
            "89.76923076923077\n"
          ],
          "name": "stdout"
        }
      ]
    },
    {
      "cell_type": "code",
      "metadata": {
        "colab": {
          "base_uri": "https://localhost:8080/"
        },
        "id": "bvc2OmFEgtU6",
        "outputId": "08166ed0-48f8-4823-f6db-530a981d4b7a"
      },
      "source": [
        "speed=[99,86,87,88,111,86,103,87,94,78,77,86,85]\r\n",
        "x=numpy.median(speed)\r\n",
        "print(x)"
      ],
      "execution_count": null,
      "outputs": [
        {
          "output_type": "stream",
          "text": [
            "87.0\n"
          ],
          "name": "stdout"
        }
      ]
    },
    {
      "cell_type": "code",
      "metadata": {
        "colab": {
          "base_uri": "https://localhost:8080/"
        },
        "id": "Gmve5SLtg0xA",
        "outputId": "3ac927aa-8a7f-4c12-a586-34b08d17ecca"
      },
      "source": [
        "from scipy import stats\r\n",
        "speed=[99,86,87,88,111,86,103,87,94,78,77,86,85]\r\n",
        "x=stats.mode(speed)\r\n",
        "print(x)"
      ],
      "execution_count": null,
      "outputs": [
        {
          "output_type": "stream",
          "text": [
            "ModeResult(mode=array([86]), count=array([3]))\n"
          ],
          "name": "stdout"
        }
      ]
    },
    {
      "cell_type": "code",
      "metadata": {
        "colab": {
          "base_uri": "https://localhost:8080/"
        },
        "id": "9YaC0Vy2g69W",
        "outputId": "a9238a91-eb4f-4ab4-8514-2cc7da487b5e"
      },
      "source": [
        "speed=[99,86,87,88,111,86,103,87,94,78,77,86,85]\r\n",
        "x=numpy.median(speed)\r\n",
        "y=numpy.std(speed)\r\n",
        "z=numpy.var(speed)\r\n",
        "print(x)\r\n",
        "print(y)\r\n",
        "print(z)"
      ],
      "execution_count": null,
      "outputs": [
        {
          "output_type": "stream",
          "text": [
            "87.0\n",
            "9.258292301032677\n",
            "85.71597633136093\n"
          ],
          "name": "stdout"
        }
      ]
    },
    {
      "cell_type": "code",
      "metadata": {
        "colab": {
          "base_uri": "https://localhost:8080/"
        },
        "id": "kP9DiWMEh0ul",
        "outputId": "3975714e-3cdf-40a7-d3cf-c2a02c1cdabb"
      },
      "source": [
        "speed=[99,86,87,88,111,86,103,87,94,78,77,86,85]\r\n",
        "x=numpy.median(speed)\r\n",
        "y=numpy.std(speed)\r\n",
        "z=numpy.var(speed)\r\n",
        "print(x,'\\t',y,'\\t',z)"
      ],
      "execution_count": null,
      "outputs": [
        {
          "output_type": "stream",
          "text": [
            "87.0 \t 9.258292301032677 \t 85.71597633136093\n"
          ],
          "name": "stdout"
        }
      ]
    },
    {
      "cell_type": "code",
      "metadata": {
        "colab": {
          "base_uri": "https://localhost:8080/"
        },
        "id": "OCIZK_QhiPod",
        "outputId": "c9e93e70-ddb2-45bd-c1af-cdc7c52db57a"
      },
      "source": [
        "age=[99,86,87,88,111,86,103,87,94,78,77,86,85,5,32,34,56,34,55,67,89,22,33,22,23,24]\r\n",
        "x=numpy.percentile(age,75)\r\n",
        "print(x)"
      ],
      "execution_count": null,
      "outputs": [
        {
          "output_type": "stream",
          "text": [
            "87.0\n"
          ],
          "name": "stdout"
        }
      ]
    },
    {
      "cell_type": "code",
      "metadata": {
        "colab": {
          "base_uri": "https://localhost:8080/"
        },
        "id": "ZXN5gk6LjHMo",
        "outputId": "efb9d239-df23-4103-9fad-263dafb07fcf"
      },
      "source": [
        "age=[99,86,87,88,111,86,103,87,94,78,77,86,85,5,32,34,56,34,55,67,89,22,33,22,23,24]\r\n",
        "x=numpy.percentile(age,50)\r\n",
        "print(x)"
      ],
      "execution_count": null,
      "outputs": [
        {
          "output_type": "stream",
          "text": [
            "77.5\n"
          ],
          "name": "stdout"
        }
      ]
    },
    {
      "cell_type": "code",
      "metadata": {
        "colab": {
          "base_uri": "https://localhost:8080/"
        },
        "id": "_qSE_9S-jf4q",
        "outputId": "02230448-5398-436c-838b-9b4c8006514a"
      },
      "source": [
        "age=[99,86,87,88,111,86,103,87,94,78,77,86,85,5,32,34,56,34,55,67,89,22,33,22,23,24]\r\n",
        "x=numpy.percentile(age,25)\r\n",
        "print(x)"
      ],
      "execution_count": null,
      "outputs": [
        {
          "output_type": "stream",
          "text": [
            "33.25\n"
          ],
          "name": "stdout"
        }
      ]
    },
    {
      "cell_type": "code",
      "metadata": {
        "colab": {
          "base_uri": "https://localhost:8080/"
        },
        "id": "w523vUYrjiWe",
        "outputId": "eeeeec09-a28b-4516-aab2-5d3ce2167ba1"
      },
      "source": [
        "age=[99,86,87,88,111,86,103,87,94,78,77,86,85,5,32,34,56,34,55,67,89,22,33,22,23,24]\r\n",
        "x=numpy.percentile(age,90)\r\n",
        "print(x)"
      ],
      "execution_count": null,
      "outputs": [
        {
          "output_type": "stream",
          "text": [
            "96.5\n"
          ],
          "name": "stdout"
        }
      ]
    },
    {
      "cell_type": "code",
      "metadata": {
        "colab": {
          "base_uri": "https://localhost:8080/",
          "height": 265
        },
        "id": "RBBfEWAEjmlW",
        "outputId": "517218f8-d153-43c0-83be-73f662ebcbcc"
      },
      "source": [
        "import numpy\r\n",
        "import matplotlib.pyplot as plt\r\n",
        "x=numpy.random.normal(5.0,1.0,100000)\r\n",
        "plt.hist(x,100)\r\n",
        "plt.show()"
      ],
      "execution_count": null,
      "outputs": [
        {
          "output_type": "display_data",
          "data": {
            "image/png": "[encoded data removed]",
            "text/plain": [
              "<Figure size 432x288 with 1 Axes>"
            ]
          },
          "metadata": {
            "tags": [],
            "needs_background": "light"
          }
        }
      ]
    },
    {
      "cell_type": "code",
      "metadata": {
        "colab": {
          "base_uri": "https://localhost:8080/"
        },
        "id": "Eij-pmZnkM16",
        "outputId": "77b0559a-5677-421a-8a16-d431e4c4aa84"
      },
      "source": [
        "x=numpy.random.normal(5.0,1.0,100000)\r\n",
        "print(x)"
      ],
      "execution_count": null,
      "outputs": [
        {
          "output_type": "stream",
          "text": [
            "[5.38283722 5.16772884 4.60656605 ... 3.65254105 5.63307969 3.21994938]\n"
          ],
          "name": "stdout"
        }
      ]
    },
    {
      "cell_type": "code",
      "metadata": {
        "colab": {
          "base_uri": "https://localhost:8080/",
          "height": 265
        },
        "id": "rLJPm34BkkCC",
        "outputId": "7687eb33-31df-49ee-a836-ec6a5121a22c"
      },
      "source": [
        "# Scatter plot\r\n",
        "x=[5,7,8,7,2,17,2,9,4,11,12,9,6]\r\n",
        "y=[99,86,87,88,111,86,103,87,93,97,77,78,85]\r\n",
        "plt.scatter(x,y)\r\n",
        "plt.show()"
      ],
      "execution_count": null,
      "outputs": [
        {
          "output_type": "display_data",
          "data": {
            "image/png": "[encoded data removed]",
            "text/plain": [
              "<Figure size 432x288 with 1 Axes>"
            ]
          },
          "metadata": {
            "tags": [],
            "needs_background": "light"
          }
        }
      ]
    },
    {
      "cell_type": "code",
      "metadata": {
        "id": "rWHWYsVHlJNW"
      },
      "source": [
        ""
      ],
      "execution_count": null,
      "outputs": []
    }
  ]
}