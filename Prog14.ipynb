{
  "nbformat": 4,
  "nbformat_minor": 0,
  "metadata": {
    "colab": {
      "name": "Prog14.ipynb",
      "provenance": []
    },
    "kernelspec": {
      "name": "python3",
      "display_name": "Python 3"
    }
  },
  "cells": [
    {
      "cell_type": "markdown",
      "metadata": {
        "id": "RJsCOKV4o7_s"
      },
      "source": [
        "#**Linear Regression from Scratch!**"
      ]
    },
    {
      "cell_type": "code",
      "metadata": {
        "id": "ZKtlm212mddf"
      },
      "source": [
        "#Let's rst create our loss function\r\n",
        "# Our cost function\r\n",
        "def cost_function(m, b, x, y):\r\n",
        "    totalError = 0\r\n",
        "    for i in range(0, len(x)):\r\n",
        "        totalError += (y[i]-(m*x[i]+b))**2\r\n",
        "    return totalError/float(len(x))"
      ],
      "execution_count": null,
      "outputs": []
    },
    {
      "cell_type": "code",
      "metadata": {
        "id": "TukkyXycp2s8"
      },
      "source": [
        "# Implementation of the gradient descent algorithm\r\n",
        "def gradient_descent(b, m, x, y, learning_rate, num_iterations):\r\n",
        "    N = float(len(x))\r\n",
        "    # repeat for num_iterations\r\n",
        "    for j in range(num_iterations): \r\n",
        "        b_gradient = 0\r\n",
        "        m_gradient = 0\r\n",
        "        for i in range(0, len(x)):\r\n",
        "            b_gradient += -(2/N) * (y[i] - ((m * x[i]) + b))\r\n",
        "            m_gradient += -(2/N) * x[i] * (y[i] - ((m * x[i]) + b))\r\n",
        "        b -= (learning_rate * b_gradient)\r\n",
        "        m -= (learning_rate * m_gradient)\r\n",
        "        # Every 100  iterations we print our error \r\n",
        "        if j%100==0:\r\n",
        "            print(\"MSE after \" + str(j) + \" iterations: \" + str(cost_function(m, b, x, y)))\r\n",
        "    return [b, m]"
      ],
      "execution_count": null,
      "outputs": []
    },
    {
      "cell_type": "markdown",
      "metadata": {
        "id": "8dkCFRAt_O9N"
      },
      "source": [
        "#Let's test our linear regression algorithm on some test data"
      ]
    },
    {
      "cell_type": "code",
      "metadata": {
        "colab": {
          "base_uri": "https://localhost:8080/",
          "height": 282
        },
        "id": "_YsCQJVf_N2t",
        "outputId": "d5d3aef0-b3ea-4323-b348-b7d739b88541"
      },
      "source": [
        "import numpy as np\r\n",
        "import matplotlib.pyplot as plt\r\n",
        "\r\n",
        "# Let's create a some randon data using linspace\r\n",
        "x = np.linspace(0, 100, 50) # creates a range of 50 numbers evenly spaced between 0 and 100\r\n",
        "delta = np.random.uniform(-10, 10, x.size)\r\n",
        "y = 0.5*x + 3 + delta\r\n",
        "\r\n",
        "plt.scatter(x, y)"
      ],
      "execution_count": null,
      "outputs": [
        {
          "output_type": "execute_result",
          "data": {
            "text/plain": [
              "<matplotlib.collections.PathCollection at 0x7fbe92330630>"
            ]
          },
          "metadata": {
            "tags": []
          },
          "execution_count": 22
        },
        {
          "output_type": "display_data",
          "data": {
            "image/png": "[encoded data removed]",
            "text/plain": [
              "<Figure size 432x288 with 1 Axes>"
            ]
          },
          "metadata": {
            "tags": [],
            "needs_background": "light"
          }
        }
      ]
    },
    {
      "cell_type": "code",
      "metadata": {
        "colab": {
          "base_uri": "https://localhost:8080/"
        },
        "id": "VPMgN7Wa_I1v",
        "outputId": "7c123765-a3ea-4ef9-d974-cbcd0dd1b99a"
      },
      "source": [
        "# Defining our learning rate\r\n",
        "learning_rate = 0.0001\r\n",
        "\r\n",
        "# defining our initial values of b and m\r\n",
        "initial_b = 0\r\n",
        "initial_m = 0\r\n",
        "\r\n",
        "# Setting how many iterations we wish to run\r\n",
        "num_iterations= 1000\r\n",
        "\r\n",
        "print('Initial MSE:', cost_function(initial_m, initial_b, x, y))\r\n",
        "[b, m] = gradient_descent(initial_b, initial_m, x, y, learning_rate, num_iterations)\r\n",
        "print('b:', b)\r\n",
        "print('m:', m)\r\n",
        "print('MSE:', cost_function(m, b, x, y))"
      ],
      "execution_count": null,
      "outputs": [
        {
          "output_type": "stream",
          "text": [
            "Initial MSE: 1025.3688068586641\n",
            "MSE after 0 iterations: 132.99335179660181\n",
            "MSE after 100 iterations: 26.59724095916563\n",
            "MSE after 200 iterations: 26.595372749629387\n",
            "MSE after 300 iterations: 26.593523685785584\n",
            "MSE after 400 iterations: 26.591693571426305\n",
            "MSE after 500 iterations: 26.589882212354347\n",
            "MSE after 600 iterations: 26.588089416362713\n",
            "MSE after 700 iterations: 26.586314993214163\n",
            "MSE after 800 iterations: 26.584558754621074\n",
            "MSE after 900 iterations: 26.582820514225336\n",
            "b: 0.050538780810672236\n",
            "m: 0.5438634440044817\n",
            "MSE: 26.581117204268125\n"
          ],
          "name": "stdout"
        }
      ]
    },
    {
      "cell_type": "code",
      "metadata": {
        "colab": {
          "base_uri": "https://localhost:8080/",
          "height": 282
        },
        "id": "uAma5HLX_fen",
        "outputId": "e6d05b34-10d1-4502-f3b0-0998896316c4"
      },
      "source": [
        "predictions = [(m * x[i]) + b for i in range(len(x))]\r\n",
        "plt.scatter(x, y)\r\n",
        "plt.plot(x, predictions, color='r')"
      ],
      "execution_count": null,
      "outputs": [
        {
          "output_type": "execute_result",
          "data": {
            "text/plain": [
              "[<matplotlib.lines.Line2D at 0x7fbe923c7dd8>]"
            ]
          },
          "metadata": {
            "tags": []
          },
          "execution_count": 24
        },
        {
          "output_type": "display_data",
          "data": {
            "image/png": "[encoded data removed]",
            "text/plain": [
              "<Figure size 432x288 with 1 Axes>"
            ]
          },
          "metadata": {
            "tags": [],
            "needs_background": "light"
          }
        }
      ]
    },
    {
      "cell_type": "markdown",
      "metadata": {
        "id": "s20CXXSN_0Xo"
      },
      "source": [
        "#Lets use sk learn's linear regression model"
      ]
    },
    {
      "cell_type": "code",
      "metadata": {
        "colab": {
          "base_uri": "https://localhost:8080/"
        },
        "id": "QBWMczxC_u_t",
        "outputId": "1396ea2b-aae7-405a-9e90-73cc034ad9d4"
      },
      "source": [
        "import numpy as np\r\n",
        "from sklearn.linear_model import LinearRegression\r\n",
        "\r\n",
        "# Let's change the shape of x array to the format expected by sklearn\r\n",
        "print(x.shape)\r\n",
        "x = x.reshape((-1, 1))\r\n",
        "print(x.shape)"
      ],
      "execution_count": null,
      "outputs": [
        {
          "output_type": "stream",
          "text": [
            "(50,)\n",
            "(50, 1)\n"
          ],
          "name": "stdout"
        }
      ]
    },
    {
      "cell_type": "code",
      "metadata": {
        "colab": {
          "base_uri": "https://localhost:8080/"
        },
        "id": "OQOb2LFRADMn",
        "outputId": "e101f3dc-1580-49ea-dd1b-4f031b433932"
      },
      "source": [
        "# Let's create the model object using LinearRegression\r\n",
        "model = LinearRegression()\r\n",
        "\r\n",
        "# Fit our model to our input data x and y\r\n",
        "model.fit(x, y)"
      ],
      "execution_count": null,
      "outputs": [
        {
          "output_type": "execute_result",
          "data": {
            "text/plain": [
              "LinearRegression(copy_X=True, fit_intercept=True, n_jobs=None, normalize=False)"
            ]
          },
          "metadata": {
            "tags": []
          },
          "execution_count": 26
        }
      ]
    },
    {
      "cell_type": "code",
      "metadata": {
        "colab": {
          "base_uri": "https://localhost:8080/"
        },
        "id": "egTvP0b4AFV9",
        "outputId": "92b652e6-99d1-4f18-bb11-89980a7a9fb8"
      },
      "source": [
        "# Get our model paramters\r\n",
        "print('Y Intercept:', model.intercept_) #b\r\n",
        "print('Gradient:', model.coef_) #m"
      ],
      "execution_count": null,
      "outputs": [
        {
          "output_type": "stream",
          "text": [
            "Y Intercept: 0.8537474111908132\n",
            "Gradient: [0.5319361]\n"
          ],
          "name": "stdout"
        }
      ]
    },
    {
      "cell_type": "code",
      "metadata": {
        "colab": {
          "base_uri": "https://localhost:8080/"
        },
        "id": "XWrfScXzAJfs",
        "outputId": "804e0577-a826-4691-ac14-cd508f8ad288"
      },
      "source": [
        "print('Y Intercept:', b)\r\n",
        "print('Gradient:', m)"
      ],
      "execution_count": null,
      "outputs": [
        {
          "output_type": "stream",
          "text": [
            "Y Intercept: 0.050538780810672236\n",
            "Gradient: 0.5438634440044817\n"
          ],
          "name": "stdout"
        }
      ]
    },
    {
      "cell_type": "code",
      "metadata": {
        "id": "Jwww_SZTALGM"
      },
      "source": [
        "# Store all predictions in y_pred\r\n",
        "\r\n",
        "y_pred = model.predict(x)"
      ],
      "execution_count": null,
      "outputs": []
    },
    {
      "cell_type": "code",
      "metadata": {
        "colab": {
          "base_uri": "https://localhost:8080/",
          "height": 282
        },
        "id": "djFrWdHkAPMs",
        "outputId": "49654e6a-6e34-41e5-e7c0-e5adf8c2f973"
      },
      "source": [
        "plt.scatter(x, y)\r\n",
        "plt.plot(x, y_pred, color='r')"
      ],
      "execution_count": null,
      "outputs": [
        {
          "output_type": "execute_result",
          "data": {
            "text/plain": [
              "[<matplotlib.lines.Line2D at 0x7fbe85950f60>]"
            ]
          },
          "metadata": {
            "tags": []
          },
          "execution_count": 30
        },
        {
          "output_type": "display_data",
          "data": {
            "image/png": "[encoded data removed]",
            "text/plain": [
              "<Figure size 432x288 with 1 Axes>"
            ]
          },
          "metadata": {
            "tags": [],
            "needs_background": "light"
          }
        }
      ]
    },
    {
      "cell_type": "code",
      "metadata": {
        "colab": {
          "base_uri": "https://localhost:8080/"
        },
        "id": "nZO0pMmjAS1r",
        "outputId": "5e97c945-845d-4e89-9105-db9a3e6826c2"
      },
      "source": [
        "from sklearn.metrics import mean_squared_error \r\n",
        "\r\n",
        "print(\"Mean squared error: %.2f\" % mean_squared_error(y, y_pred))"
      ],
      "execution_count": null,
      "outputs": [
        {
          "output_type": "stream",
          "text": [
            "Mean squared error: 26.41\n"
          ],
          "name": "stdout"
        }
      ]
    },
    {
      "cell_type": "markdown",
      "metadata": {
        "id": "9RtVENYjAci_"
      },
      "source": [
        "#Linear regression on olympic 100m gold times"
      ]
    },
    {
      "cell_type": "code",
      "metadata": {
        "id": "ChmrPdhQAVko",
        "colab": {
          "base_uri": "https://localhost:8080/",
          "height": 195
        },
        "outputId": "8df2bcae-dc0e-4deb-98a8-ad5a705d9506"
      },
      "source": [
        "import pandas as pd\r\n",
        "import numpy as np\r\n",
        "import seaborn as sns\r\n",
        "import matplotlib.pyplot as plt\r\n",
        "\r\n",
        "file_name = \"/content/olympic100m.csv\"\r\n",
        "df = pd.read_csv(file_name)\r\n",
        "df.tail(5)"
      ],
      "execution_count": 33,
      "outputs": [
        {
          "output_type": "execute_result",
          "data": {
            "text/html": [
              "<div>\n",
              "<style scoped>\n",
              "    .dataframe tbody tr th:only-of-type {\n",
              "        vertical-align: middle;\n",
              "    }\n",
              "\n",
              "    .dataframe tbody tr th {\n",
              "        vertical-align: top;\n",
              "    }\n",
              "\n",
              "    .dataframe thead th {\n",
              "        text-align: right;\n",
              "    }\n",
              "</style>\n",
              "<table border=\"1\" class=\"dataframe\">\n",
              "  <thead>\n",
              "    <tr style=\"text-align: right;\">\n",
              "      <th></th>\n",
              "      <th>year</th>\n",
              "      <th>time</th>\n",
              "    </tr>\n",
              "  </thead>\n",
              "  <tbody>\n",
              "    <tr>\n",
              "      <th>24</th>\n",
              "      <td>2000</td>\n",
              "      <td>9.87</td>\n",
              "    </tr>\n",
              "    <tr>\n",
              "      <th>25</th>\n",
              "      <td>2004</td>\n",
              "      <td>9.85</td>\n",
              "    </tr>\n",
              "    <tr>\n",
              "      <th>26</th>\n",
              "      <td>2008</td>\n",
              "      <td>9.69</td>\n",
              "    </tr>\n",
              "    <tr>\n",
              "      <th>27</th>\n",
              "      <td>2012</td>\n",
              "      <td>9.63</td>\n",
              "    </tr>\n",
              "    <tr>\n",
              "      <th>28</th>\n",
              "      <td>2016</td>\n",
              "      <td>9.81</td>\n",
              "    </tr>\n",
              "  </tbody>\n",
              "</table>\n",
              "</div>"
            ],
            "text/plain": [
              "    year  time\n",
              "24  2000  9.87\n",
              "25  2004  9.85\n",
              "26  2008  9.69\n",
              "27  2012  9.63\n",
              "28  2016  9.81"
            ]
          },
          "metadata": {
            "tags": []
          },
          "execution_count": 33
        }
      ]
    },
    {
      "cell_type": "code",
      "metadata": {
        "colab": {
          "base_uri": "https://localhost:8080/"
        },
        "id": "aLHYNmg9J7ai",
        "outputId": "963bd8c0-022c-4a3b-a45e-ded5abd2669b"
      },
      "source": [
        "# Format data into correct shape\r\n",
        "x = df['year']\r\n",
        "x_train = np.array(x).reshape((-1, 1))\r\n",
        "x_train.shape"
      ],
      "execution_count": 34,
      "outputs": [
        {
          "output_type": "execute_result",
          "data": {
            "text/plain": [
              "(29, 1)"
            ]
          },
          "metadata": {
            "tags": []
          },
          "execution_count": 34
        }
      ]
    },
    {
      "cell_type": "code",
      "metadata": {
        "id": "xrB-ay1UKAay"
      },
      "source": [
        "y_train = np.array(df['time'])"
      ],
      "execution_count": 35,
      "outputs": []
    },
    {
      "cell_type": "code",
      "metadata": {
        "colab": {
          "base_uri": "https://localhost:8080/",
          "height": 282
        },
        "id": "_kCw5EC0KF0y",
        "outputId": "c3fc213e-0b1c-4106-caea-fa10b62b13b9"
      },
      "source": [
        "import numpy as np\r\n",
        "from sklearn.linear_model import LinearRegression\r\n",
        "\r\n",
        "# Let's create the model object using LinearRegression\r\n",
        "model = LinearRegression()\r\n",
        "\r\n",
        "# Fit our model to our input data x and y\r\n",
        "model.fit(x_train, y_train)\r\n",
        "\r\n",
        "y_pred = model.predict(x_train)\r\n",
        "plt.scatter(x_train, y_train)\r\n",
        "plt.plot(x, y_pred, color='r')"
      ],
      "execution_count": 37,
      "outputs": [
        {
          "output_type": "execute_result",
          "data": {
            "text/plain": [
              "[<matplotlib.lines.Line2D at 0x7fbe850f8400>]"
            ]
          },
          "metadata": {
            "tags": []
          },
          "execution_count": 37
        },
        {
          "output_type": "display_data",
          "data": {
            "image/png": "[encoded data removed]",
            "text/plain": [
              "<Figure size 432x288 with 1 Axes>"
            ]
          },
          "metadata": {
            "tags": [],
            "needs_background": "light"
          }
        }
      ]
    },
    {
      "cell_type": "code",
      "metadata": {
        "colab": {
          "base_uri": "https://localhost:8080/"
        },
        "id": "kuXwxSg2KIkG",
        "outputId": "b33d2bc5-5144-4619-96fd-c6cbc2a71c4c"
      },
      "source": [
        "# Predict for 2020 Olympics\r\n",
        "\r\n",
        "x_2020 = np.array([2020]).reshape(-1, 1)\r\n",
        "x_2020.shape"
      ],
      "execution_count": 38,
      "outputs": [
        {
          "output_type": "execute_result",
          "data": {
            "text/plain": [
              "(1, 1)"
            ]
          },
          "metadata": {
            "tags": []
          },
          "execution_count": 38
        }
      ]
    },
    {
      "cell_type": "code",
      "metadata": {
        "colab": {
          "base_uri": "https://localhost:8080/"
        },
        "id": "frokFyQAKL2K",
        "outputId": "83f20e79-5be1-4321-b131-12ca3a5c04a0"
      },
      "source": [
        "model.predict(x_2020)"
      ],
      "execution_count": 39,
      "outputs": [
        {
          "output_type": "execute_result",
          "data": {
            "text/plain": [
              "array([9.52679525])"
            ]
          },
          "metadata": {
            "tags": []
          },
          "execution_count": 39
        }
      ]
    },
    {
      "cell_type": "markdown",
      "metadata": {
        "id": "j65N6sEWKRmJ"
      },
      "source": [
        "#Polynomial regression"
      ]
    },
    {
      "cell_type": "code",
      "metadata": {
        "colab": {
          "base_uri": "https://localhost:8080/",
          "height": 225
        },
        "id": "EJ2jlNsmKOAS",
        "outputId": "d732c6f7-fcd7-4898-fcf8-a1be7f5579d0"
      },
      "source": [
        "# Importing the libraries \r\n",
        "import numpy as np \r\n",
        "import matplotlib.pyplot as plt \r\n",
        "import pandas as pd \r\n",
        "  \r\n",
        "# Importing the dataset \r\n",
        "file_name = \"/content/polylinearregression.csv\"\r\n",
        "df = pd.read_csv(file_name)\r\n",
        "df.head(7)"
      ],
      "execution_count": 40,
      "outputs": [
        {
          "output_type": "execute_result",
          "data": {
            "text/html": [
              "<div>\n",
              "<style scoped>\n",
              "    .dataframe tbody tr th:only-of-type {\n",
              "        vertical-align: middle;\n",
              "    }\n",
              "\n",
              "    .dataframe tbody tr th {\n",
              "        vertical-align: top;\n",
              "    }\n",
              "\n",
              "    .dataframe thead th {\n",
              "        text-align: right;\n",
              "    }\n",
              "</style>\n",
              "<table border=\"1\" class=\"dataframe\">\n",
              "  <thead>\n",
              "    <tr style=\"text-align: right;\">\n",
              "      <th></th>\n",
              "      <th>sno</th>\n",
              "      <th>Temperature</th>\n",
              "      <th>Pressure</th>\n",
              "    </tr>\n",
              "  </thead>\n",
              "  <tbody>\n",
              "    <tr>\n",
              "      <th>0</th>\n",
              "      <td>1</td>\n",
              "      <td>0</td>\n",
              "      <td>0.0002</td>\n",
              "    </tr>\n",
              "    <tr>\n",
              "      <th>1</th>\n",
              "      <td>2</td>\n",
              "      <td>20</td>\n",
              "      <td>0.0012</td>\n",
              "    </tr>\n",
              "    <tr>\n",
              "      <th>2</th>\n",
              "      <td>3</td>\n",
              "      <td>40</td>\n",
              "      <td>0.0060</td>\n",
              "    </tr>\n",
              "    <tr>\n",
              "      <th>3</th>\n",
              "      <td>4</td>\n",
              "      <td>60</td>\n",
              "      <td>0.0300</td>\n",
              "    </tr>\n",
              "    <tr>\n",
              "      <th>4</th>\n",
              "      <td>5</td>\n",
              "      <td>80</td>\n",
              "      <td>0.0900</td>\n",
              "    </tr>\n",
              "    <tr>\n",
              "      <th>5</th>\n",
              "      <td>6</td>\n",
              "      <td>100</td>\n",
              "      <td>0.2700</td>\n",
              "    </tr>\n",
              "  </tbody>\n",
              "</table>\n",
              "</div>"
            ],
            "text/plain": [
              "   sno  Temperature  Pressure\n",
              "0    1            0    0.0002\n",
              "1    2           20    0.0012\n",
              "2    3           40    0.0060\n",
              "3    4           60    0.0300\n",
              "4    5           80    0.0900\n",
              "5    6          100    0.2700"
            ]
          },
          "metadata": {
            "tags": []
          },
          "execution_count": 40
        }
      ]
    },
    {
      "cell_type": "code",
      "metadata": {
        "id": "mp1Jum-MKm9y"
      },
      "source": [
        "# Extract our x values, the column Temperature\r\n",
        "x = df.iloc[:, 1:2].values \r\n",
        "\r\n",
        "# Extract our y or target variable Pressure\r\n",
        "y = df.iloc[:, 2].values "
      ],
      "execution_count": 41,
      "outputs": []
    },
    {
      "cell_type": "code",
      "metadata": {
        "colab": {
          "base_uri": "https://localhost:8080/"
        },
        "id": "iw2iT6seKpa2",
        "outputId": "632d5561-f356-4fe9-92c6-8deed56920fe"
      },
      "source": [
        "# Fitting Polynomial Regression to the dataset \r\n",
        "# Fitting the Polynomial Regression model on two components X and y.\r\n",
        "from sklearn.linear_model import LinearRegression\r\n",
        "from sklearn.preprocessing import PolynomialFeatures \r\n",
        "  \r\n",
        "poly = PolynomialFeatures(degree = 9) \r\n",
        "model_Poly = poly.fit_transform(x) \r\n",
        "  \r\n",
        "lin_poly = LinearRegression() \r\n",
        "lin_poly.fit(model_Poly, y) "
      ],
      "execution_count": 42,
      "outputs": [
        {
          "output_type": "execute_result",
          "data": {
            "text/plain": [
              "LinearRegression(copy_X=True, fit_intercept=True, n_jobs=None, normalize=False)"
            ]
          },
          "metadata": {
            "tags": []
          },
          "execution_count": 42
        }
      ]
    },
    {
      "cell_type": "code",
      "metadata": {
        "colab": {
          "base_uri": "https://localhost:8080/",
          "height": 295
        },
        "id": "4pw0L8k9KtV8",
        "outputId": "acf1ff0b-51b9-49ff-e3d0-b5dde23dbb7c"
      },
      "source": [
        "# Visualising the Polynomial Regression results \r\n",
        "plt.scatter(x, y, color = 'blue') \r\n",
        "  \r\n",
        "plt.plot(x, lin_poly.predict(model_Poly), color = 'red') \r\n",
        "plt.title('Polynomial Regression') \r\n",
        "plt.xlabel('Temperature') \r\n",
        "plt.ylabel('Pressure') \r\n",
        "  \r\n",
        "plt.show() "
      ],
      "execution_count": 43,
      "outputs": [
        {
          "output_type": "display_data",
          "data": {
            "image/png": "[encoded data removed]",
            "text/plain": [
              "<Figure size 432x288 with 1 Axes>"
            ]
          },
          "metadata": {
            "tags": [],
            "needs_background": "light"
          }
        }
      ]
    },
    {
      "cell_type": "markdown",
      "metadata": {
        "id": "2THjN48NKynn"
      },
      "source": [
        "#Multivariate linear regression"
      ]
    },
    {
      "cell_type": "code",
      "metadata": {
        "colab": {
          "base_uri": "https://localhost:8080/",
          "height": 350
        },
        "id": "2bYgDObZKwEe",
        "outputId": "1eac6fa5-1549-41da-b093-8205062bd187"
      },
      "source": [
        "# Importing the libraries \r\n",
        "import numpy as np \r\n",
        "import matplotlib.pyplot as plt \r\n",
        "import pandas as pd \r\n",
        "  \r\n",
        "# Importing the dataset \r\n",
        "file_name = \"/content/autompg.csv\"\r\n",
        "auto_df = pd.read_csv(file_name)\r\n",
        "auto_df.head()"
      ],
      "execution_count": 44,
      "outputs": [
        {
          "output_type": "execute_result",
          "data": {
            "text/html": [
              "<div>\n",
              "<style scoped>\n",
              "    .dataframe tbody tr th:only-of-type {\n",
              "        vertical-align: middle;\n",
              "    }\n",
              "\n",
              "    .dataframe tbody tr th {\n",
              "        vertical-align: top;\n",
              "    }\n",
              "\n",
              "    .dataframe thead th {\n",
              "        text-align: right;\n",
              "    }\n",
              "</style>\n",
              "<table border=\"1\" class=\"dataframe\">\n",
              "  <thead>\n",
              "    <tr style=\"text-align: right;\">\n",
              "      <th></th>\n",
              "      <th>mpg</th>\n",
              "      <th>cylinders</th>\n",
              "      <th>displacement</th>\n",
              "      <th>horsepower</th>\n",
              "      <th>weight</th>\n",
              "      <th>acceleration</th>\n",
              "      <th>model year</th>\n",
              "      <th>origin</th>\n",
              "      <th>car name</th>\n",
              "    </tr>\n",
              "  </thead>\n",
              "  <tbody>\n",
              "    <tr>\n",
              "      <th>0</th>\n",
              "      <td>18.0</td>\n",
              "      <td>8</td>\n",
              "      <td>307.0</td>\n",
              "      <td>130</td>\n",
              "      <td>3504</td>\n",
              "      <td>12.0</td>\n",
              "      <td>70</td>\n",
              "      <td>1</td>\n",
              "      <td>chevrolet chevelle malibu</td>\n",
              "    </tr>\n",
              "    <tr>\n",
              "      <th>1</th>\n",
              "      <td>15.0</td>\n",
              "      <td>8</td>\n",
              "      <td>350.0</td>\n",
              "      <td>165</td>\n",
              "      <td>3693</td>\n",
              "      <td>11.5</td>\n",
              "      <td>70</td>\n",
              "      <td>1</td>\n",
              "      <td>buick skylark 320</td>\n",
              "    </tr>\n",
              "    <tr>\n",
              "      <th>2</th>\n",
              "      <td>18.0</td>\n",
              "      <td>8</td>\n",
              "      <td>318.0</td>\n",
              "      <td>150</td>\n",
              "      <td>3436</td>\n",
              "      <td>11.0</td>\n",
              "      <td>70</td>\n",
              "      <td>1</td>\n",
              "      <td>plymouth satellite</td>\n",
              "    </tr>\n",
              "    <tr>\n",
              "      <th>3</th>\n",
              "      <td>16.0</td>\n",
              "      <td>8</td>\n",
              "      <td>304.0</td>\n",
              "      <td>150</td>\n",
              "      <td>3433</td>\n",
              "      <td>12.0</td>\n",
              "      <td>70</td>\n",
              "      <td>1</td>\n",
              "      <td>amc rebel sst</td>\n",
              "    </tr>\n",
              "    <tr>\n",
              "      <th>4</th>\n",
              "      <td>17.0</td>\n",
              "      <td>8</td>\n",
              "      <td>302.0</td>\n",
              "      <td>140</td>\n",
              "      <td>3449</td>\n",
              "      <td>10.5</td>\n",
              "      <td>70</td>\n",
              "      <td>1</td>\n",
              "      <td>ford torino</td>\n",
              "    </tr>\n",
              "  </tbody>\n",
              "</table>\n",
              "</div>"
            ],
            "text/plain": [
              "    mpg  cylinders  displacement  ... model year  origin                   car name\n",
              "0  18.0          8         307.0  ...         70       1  chevrolet chevelle malibu\n",
              "1  15.0          8         350.0  ...         70       1          buick skylark 320\n",
              "2  18.0          8         318.0  ...         70       1         plymouth satellite\n",
              "3  16.0          8         304.0  ...         70       1              amc rebel sst\n",
              "4  17.0          8         302.0  ...         70       1                ford torino\n",
              "\n",
              "[5 rows x 9 columns]"
            ]
          },
          "metadata": {
            "tags": []
          },
          "execution_count": 44
        }
      ]
    },
    {
      "cell_type": "code",
      "metadata": {
        "colab": {
          "base_uri": "https://localhost:8080/",
          "height": 413
        },
        "id": "gF2vENuuLAIR",
        "outputId": "818f9d7c-c9f3-4b8e-d961-7ae0c71a648a"
      },
      "source": [
        "# Check for the rows that contain \"?\"\r\n",
        "auto_df[auto_df['horsepower'] == '?']"
      ],
      "execution_count": 45,
      "outputs": [
        {
          "output_type": "execute_result",
          "data": {
            "text/html": [
              "<div>\n",
              "<style scoped>\n",
              "    .dataframe tbody tr th:only-of-type {\n",
              "        vertical-align: middle;\n",
              "    }\n",
              "\n",
              "    .dataframe tbody tr th {\n",
              "        vertical-align: top;\n",
              "    }\n",
              "\n",
              "    .dataframe thead th {\n",
              "        text-align: right;\n",
              "    }\n",
              "</style>\n",
              "<table border=\"1\" class=\"dataframe\">\n",
              "  <thead>\n",
              "    <tr style=\"text-align: right;\">\n",
              "      <th></th>\n",
              "      <th>mpg</th>\n",
              "      <th>cylinders</th>\n",
              "      <th>displacement</th>\n",
              "      <th>horsepower</th>\n",
              "      <th>weight</th>\n",
              "      <th>acceleration</th>\n",
              "      <th>model year</th>\n",
              "      <th>origin</th>\n",
              "      <th>car name</th>\n",
              "    </tr>\n",
              "  </thead>\n",
              "  <tbody>\n",
              "    <tr>\n",
              "      <th>32</th>\n",
              "      <td>25.0</td>\n",
              "      <td>4</td>\n",
              "      <td>98.0</td>\n",
              "      <td>?</td>\n",
              "      <td>2046</td>\n",
              "      <td>19.0</td>\n",
              "      <td>71</td>\n",
              "      <td>1</td>\n",
              "      <td>ford pinto</td>\n",
              "    </tr>\n",
              "    <tr>\n",
              "      <th>123</th>\n",
              "      <td>21.0</td>\n",
              "      <td>6</td>\n",
              "      <td>200.0</td>\n",
              "      <td>?</td>\n",
              "      <td>2875</td>\n",
              "      <td>17.0</td>\n",
              "      <td>74</td>\n",
              "      <td>1</td>\n",
              "      <td>ford maverick</td>\n",
              "    </tr>\n",
              "    <tr>\n",
              "      <th>327</th>\n",
              "      <td>40.9</td>\n",
              "      <td>4</td>\n",
              "      <td>85.0</td>\n",
              "      <td>?</td>\n",
              "      <td>1835</td>\n",
              "      <td>17.3</td>\n",
              "      <td>80</td>\n",
              "      <td>2</td>\n",
              "      <td>renault lecar deluxe</td>\n",
              "    </tr>\n",
              "    <tr>\n",
              "      <th>333</th>\n",
              "      <td>23.6</td>\n",
              "      <td>4</td>\n",
              "      <td>140.0</td>\n",
              "      <td>?</td>\n",
              "      <td>2905</td>\n",
              "      <td>14.3</td>\n",
              "      <td>80</td>\n",
              "      <td>1</td>\n",
              "      <td>ford mustang cobra</td>\n",
              "    </tr>\n",
              "    <tr>\n",
              "      <th>351</th>\n",
              "      <td>34.5</td>\n",
              "      <td>4</td>\n",
              "      <td>100.0</td>\n",
              "      <td>?</td>\n",
              "      <td>2320</td>\n",
              "      <td>15.8</td>\n",
              "      <td>81</td>\n",
              "      <td>2</td>\n",
              "      <td>renault 18i</td>\n",
              "    </tr>\n",
              "    <tr>\n",
              "      <th>371</th>\n",
              "      <td>23.0</td>\n",
              "      <td>4</td>\n",
              "      <td>151.0</td>\n",
              "      <td>?</td>\n",
              "      <td>3035</td>\n",
              "      <td>20.5</td>\n",
              "      <td>82</td>\n",
              "      <td>1</td>\n",
              "      <td>amc concord dl</td>\n",
              "    </tr>\n",
              "  </tbody>\n",
              "</table>\n",
              "</div>"
            ],
            "text/plain": [
              "      mpg  cylinders  displacement  ... model year  origin              car name\n",
              "32   25.0          4          98.0  ...         71       1            ford pinto\n",
              "123  21.0          6         200.0  ...         74       1         ford maverick\n",
              "327  40.9          4          85.0  ...         80       2  renault lecar deluxe\n",
              "333  23.6          4         140.0  ...         80       1    ford mustang cobra\n",
              "351  34.5          4         100.0  ...         81       2           renault 18i\n",
              "371  23.0          4         151.0  ...         82       1        amc concord dl\n",
              "\n",
              "[6 rows x 9 columns]"
            ]
          },
          "metadata": {
            "tags": []
          },
          "execution_count": 45
        }
      ]
    },
    {
      "cell_type": "code",
      "metadata": {
        "id": "682qq7lVLDgd"
      },
      "source": [
        "# Get the indexes that have \"?\" instead of numbers\r\n",
        "indexNames = auto_df[auto_df['horsepower'] == \"?\" ].index\r\n",
        " \r\n",
        "# Delete these row indexes from dataFrame\r\n",
        "auto_df.drop(indexNames , inplace=True)"
      ],
      "execution_count": 46,
      "outputs": []
    },
    {
      "cell_type": "code",
      "metadata": {
        "colab": {
          "base_uri": "https://localhost:8080/",
          "height": 84
        },
        "id": "byVNJlz7LHIm",
        "outputId": "a7635c8e-7b71-4c96-e79c-dc5f48ee84ae"
      },
      "source": [
        "# Just checking to see if they've been removed\r\n",
        "auto_df[auto_df['horsepower'] == '?']"
      ],
      "execution_count": 47,
      "outputs": [
        {
          "output_type": "execute_result",
          "data": {
            "text/html": [
              "<div>\n",
              "<style scoped>\n",
              "    .dataframe tbody tr th:only-of-type {\n",
              "        vertical-align: middle;\n",
              "    }\n",
              "\n",
              "    .dataframe tbody tr th {\n",
              "        vertical-align: top;\n",
              "    }\n",
              "\n",
              "    .dataframe thead th {\n",
              "        text-align: right;\n",
              "    }\n",
              "</style>\n",
              "<table border=\"1\" class=\"dataframe\">\n",
              "  <thead>\n",
              "    <tr style=\"text-align: right;\">\n",
              "      <th></th>\n",
              "      <th>mpg</th>\n",
              "      <th>cylinders</th>\n",
              "      <th>displacement</th>\n",
              "      <th>horsepower</th>\n",
              "      <th>weight</th>\n",
              "      <th>acceleration</th>\n",
              "      <th>model year</th>\n",
              "      <th>origin</th>\n",
              "      <th>car name</th>\n",
              "    </tr>\n",
              "  </thead>\n",
              "  <tbody>\n",
              "  </tbody>\n",
              "</table>\n",
              "</div>"
            ],
            "text/plain": [
              "Empty DataFrame\n",
              "Columns: [mpg, cylinders, displacement, horsepower, weight, acceleration, model year, origin, car name]\n",
              "Index: []"
            ]
          },
          "metadata": {
            "tags": []
          },
          "execution_count": 47
        }
      ]
    },
    {
      "cell_type": "code",
      "metadata": {
        "id": "ee9MiFPuLLzu"
      },
      "source": [
        "auto_df['horsepower'] = auto_df['horsepower'].astype(float)"
      ],
      "execution_count": 48,
      "outputs": []
    },
    {
      "cell_type": "code",
      "metadata": {
        "colab": {
          "base_uri": "https://localhost:8080/"
        },
        "id": "hORSI-WKLQSt",
        "outputId": "693cc3dd-5039-4125-ff66-cb0e409717fe"
      },
      "source": [
        "auto_df.info()"
      ],
      "execution_count": 49,
      "outputs": [
        {
          "output_type": "stream",
          "text": [
            "<class 'pandas.core.frame.DataFrame'>\n",
            "Int64Index: 389 entries, 0 to 394\n",
            "Data columns (total 9 columns):\n",
            " #   Column        Non-Null Count  Dtype  \n",
            "---  ------        --------------  -----  \n",
            " 0   mpg           389 non-null    float64\n",
            " 1   cylinders     389 non-null    int64  \n",
            " 2   displacement  389 non-null    float64\n",
            " 3   horsepower    389 non-null    float64\n",
            " 4   weight        389 non-null    int64  \n",
            " 5   acceleration  389 non-null    float64\n",
            " 6   model year    389 non-null    int64  \n",
            " 7   origin        389 non-null    int64  \n",
            " 8   car name      389 non-null    object \n",
            "dtypes: float64(4), int64(4), object(1)\n",
            "memory usage: 30.4+ KB\n"
          ],
          "name": "stdout"
        }
      ]
    },
    {
      "cell_type": "code",
      "metadata": {
        "id": "seLVN1sSLSlS"
      },
      "source": [
        "x = auto_df.iloc[:,1:8].values\r\n",
        "y = auto_df.iloc[:,0].values"
      ],
      "execution_count": 50,
      "outputs": []
    },
    {
      "cell_type": "code",
      "metadata": {
        "colab": {
          "base_uri": "https://localhost:8080/"
        },
        "id": "tncU-xgQLUis",
        "outputId": "a96b5db3-0113-4d02-dc97-8a6cd8cb36c6"
      },
      "source": [
        "from sklearn.model_selection import train_test_split\r\n",
        "from sklearn.linear_model import LinearRegression\r\n",
        "from sklearn.metrics import mean_squared_error\r\n",
        "\r\n",
        "X_train,X_test,Y_train,Y_test = train_test_split(x,y,test_size=0.3,random_state=0)\r\n",
        "\r\n",
        "regressor = LinearRegression()\r\n",
        "regressor.fit(X_train,Y_train)"
      ],
      "execution_count": 51,
      "outputs": [
        {
          "output_type": "execute_result",
          "data": {
            "text/plain": [
              "LinearRegression(copy_X=True, fit_intercept=True, n_jobs=None, normalize=False)"
            ]
          },
          "metadata": {
            "tags": []
          },
          "execution_count": 51
        }
      ]
    },
    {
      "cell_type": "code",
      "metadata": {
        "id": "IvS4_V4tLX3c"
      },
      "source": [
        "# cylinders\tdisplacement\thorsepower\tweight\tacceleration\tmodel year\torigin\r\n",
        "\r\n",
        "# Data for Honda Prelude actual mpg is 24\r\n",
        "Trial_Data = np.array([8, 220, 195, 3042 , 6.7, 98, 3])\r\n",
        "Trial_Data = Trial_Data.reshape((-1, 7))\r\n",
        "Trial_Data = Trial_Data.astype(float)"
      ],
      "execution_count": 52,
      "outputs": []
    },
    {
      "cell_type": "code",
      "metadata": {
        "colab": {
          "base_uri": "https://localhost:8080/"
        },
        "id": "PbxH50d0LcNx",
        "outputId": "35fa6446-b9dc-44c5-c164-473d94600bb4"
      },
      "source": [
        "regressor.predict(Trial_Data)[0]"
      ],
      "execution_count": 53,
      "outputs": [
        {
          "output_type": "execute_result",
          "data": {
            "text/plain": [
              "38.18699460555594"
            ]
          },
          "metadata": {
            "tags": []
          },
          "execution_count": 53
        }
      ]
    },
    {
      "cell_type": "code",
      "metadata": {
        "id": "4iUZ3PUOLfdG"
      },
      "source": [
        ""
      ],
      "execution_count": null,
      "outputs": []
    }
  ]
}